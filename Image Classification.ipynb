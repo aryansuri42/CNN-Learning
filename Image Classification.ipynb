{
 "cells": [
  {
   "cell_type": "code",
   "execution_count": 1,
   "id": "9d849200-c1b5-4c81-968f-fb7e3ba90cfd",
   "metadata": {},
   "outputs": [
    {
     "name": "stdout",
     "output_type": "stream",
     "text": [
      "Requirement already satisfied: tensorflow in c:\\users\\aryan suri\\appdata\\local\\programs\\python\\python311\\lib\\site-packages (2.14.0)\n",
      "Requirement already satisfied: opencv-python in c:\\users\\aryan suri\\appdata\\local\\programs\\python\\python311\\lib\\site-packages (4.8.1.78)\n",
      "Requirement already satisfied: matplotlib in c:\\users\\aryan suri\\appdata\\local\\programs\\python\\python311\\lib\\site-packages (3.8.0)\n",
      "Requirement already satisfied: tensorflow-intel==2.14.0 in c:\\users\\aryan suri\\appdata\\local\\programs\\python\\python311\\lib\\site-packages (from tensorflow) (2.14.0)\n",
      "Requirement already satisfied: absl-py>=1.0.0 in c:\\users\\aryan suri\\appdata\\local\\programs\\python\\python311\\lib\\site-packages (from tensorflow-intel==2.14.0->tensorflow) (2.0.0)\n",
      "Requirement already satisfied: astunparse>=1.6.0 in c:\\users\\aryan suri\\appdata\\local\\programs\\python\\python311\\lib\\site-packages (from tensorflow-intel==2.14.0->tensorflow) (1.6.3)\n",
      "Requirement already satisfied: flatbuffers>=23.5.26 in c:\\users\\aryan suri\\appdata\\local\\programs\\python\\python311\\lib\\site-packages (from tensorflow-intel==2.14.0->tensorflow) (23.5.26)\n",
      "Requirement already satisfied: gast!=0.5.0,!=0.5.1,!=0.5.2,>=0.2.1 in c:\\users\\aryan suri\\appdata\\local\\programs\\python\\python311\\lib\\site-packages (from tensorflow-intel==2.14.0->tensorflow) (0.5.4)\n",
      "Requirement already satisfied: google-pasta>=0.1.1 in c:\\users\\aryan suri\\appdata\\local\\programs\\python\\python311\\lib\\site-packages (from tensorflow-intel==2.14.0->tensorflow) (0.2.0)\n",
      "Requirement already satisfied: h5py>=2.9.0 in c:\\users\\aryan suri\\appdata\\local\\programs\\python\\python311\\lib\\site-packages (from tensorflow-intel==2.14.0->tensorflow) (3.10.0)\n",
      "Requirement already satisfied: libclang>=13.0.0 in c:\\users\\aryan suri\\appdata\\local\\programs\\python\\python311\\lib\\site-packages (from tensorflow-intel==2.14.0->tensorflow) (16.0.6)\n",
      "Requirement already satisfied: ml-dtypes==0.2.0 in c:\\users\\aryan suri\\appdata\\local\\programs\\python\\python311\\lib\\site-packages (from tensorflow-intel==2.14.0->tensorflow) (0.2.0)\n",
      "Requirement already satisfied: numpy>=1.23.5 in c:\\users\\aryan suri\\appdata\\local\\programs\\python\\python311\\lib\\site-packages (from tensorflow-intel==2.14.0->tensorflow) (1.26.1)\n",
      "Requirement already satisfied: opt-einsum>=2.3.2 in c:\\users\\aryan suri\\appdata\\local\\programs\\python\\python311\\lib\\site-packages (from tensorflow-intel==2.14.0->tensorflow) (3.3.0)\n",
      "Requirement already satisfied: packaging in c:\\users\\aryan suri\\appdata\\local\\programs\\python\\python311\\lib\\site-packages (from tensorflow-intel==2.14.0->tensorflow) (23.2)\n",
      "Requirement already satisfied: protobuf!=4.21.0,!=4.21.1,!=4.21.2,!=4.21.3,!=4.21.4,!=4.21.5,<5.0.0dev,>=3.20.3 in c:\\users\\aryan suri\\appdata\\local\\programs\\python\\python311\\lib\\site-packages (from tensorflow-intel==2.14.0->tensorflow) (3.20.3)\n",
      "Requirement already satisfied: setuptools in c:\\users\\aryan suri\\appdata\\local\\programs\\python\\python311\\lib\\site-packages (from tensorflow-intel==2.14.0->tensorflow) (65.5.0)\n",
      "Requirement already satisfied: six>=1.12.0 in c:\\users\\aryan suri\\appdata\\local\\programs\\python\\python311\\lib\\site-packages (from tensorflow-intel==2.14.0->tensorflow) (1.16.0)\n",
      "Requirement already satisfied: termcolor>=1.1.0 in c:\\users\\aryan suri\\appdata\\local\\programs\\python\\python311\\lib\\site-packages (from tensorflow-intel==2.14.0->tensorflow) (2.3.0)\n",
      "Requirement already satisfied: typing-extensions>=3.6.6 in c:\\users\\aryan suri\\appdata\\local\\programs\\python\\python311\\lib\\site-packages (from tensorflow-intel==2.14.0->tensorflow) (4.8.0)\n",
      "Requirement already satisfied: wrapt<1.15,>=1.11.0 in c:\\users\\aryan suri\\appdata\\local\\programs\\python\\python311\\lib\\site-packages (from tensorflow-intel==2.14.0->tensorflow) (1.14.1)\n",
      "Requirement already satisfied: tensorflow-io-gcs-filesystem>=0.23.1 in c:\\users\\aryan suri\\appdata\\local\\programs\\python\\python311\\lib\\site-packages (from tensorflow-intel==2.14.0->tensorflow) (0.31.0)\n",
      "Requirement already satisfied: grpcio<2.0,>=1.24.3 in c:\\users\\aryan suri\\appdata\\local\\programs\\python\\python311\\lib\\site-packages (from tensorflow-intel==2.14.0->tensorflow) (1.59.0)\n",
      "Requirement already satisfied: tensorboard<2.15,>=2.14 in c:\\users\\aryan suri\\appdata\\local\\programs\\python\\python311\\lib\\site-packages (from tensorflow-intel==2.14.0->tensorflow) (2.14.1)\n",
      "Requirement already satisfied: tensorflow-estimator<2.15,>=2.14.0 in c:\\users\\aryan suri\\appdata\\local\\programs\\python\\python311\\lib\\site-packages (from tensorflow-intel==2.14.0->tensorflow) (2.14.0)\n",
      "Requirement already satisfied: keras<2.15,>=2.14.0 in c:\\users\\aryan suri\\appdata\\local\\programs\\python\\python311\\lib\\site-packages (from tensorflow-intel==2.14.0->tensorflow) (2.14.0)\n",
      "Requirement already satisfied: contourpy>=1.0.1 in c:\\users\\aryan suri\\appdata\\local\\programs\\python\\python311\\lib\\site-packages (from matplotlib) (1.1.1)\n",
      "Requirement already satisfied: cycler>=0.10 in c:\\users\\aryan suri\\appdata\\local\\programs\\python\\python311\\lib\\site-packages (from matplotlib) (0.12.1)\n",
      "Requirement already satisfied: fonttools>=4.22.0 in c:\\users\\aryan suri\\appdata\\local\\programs\\python\\python311\\lib\\site-packages (from matplotlib) (4.43.1)\n",
      "Requirement already satisfied: kiwisolver>=1.0.1 in c:\\users\\aryan suri\\appdata\\local\\programs\\python\\python311\\lib\\site-packages (from matplotlib) (1.4.5)\n",
      "Requirement already satisfied: pillow>=6.2.0 in c:\\users\\aryan suri\\appdata\\local\\programs\\python\\python311\\lib\\site-packages (from matplotlib) (10.1.0)\n",
      "Requirement already satisfied: pyparsing>=2.3.1 in c:\\users\\aryan suri\\appdata\\local\\programs\\python\\python311\\lib\\site-packages (from matplotlib) (3.1.1)\n",
      "Requirement already satisfied: python-dateutil>=2.7 in c:\\users\\aryan suri\\appdata\\local\\programs\\python\\python311\\lib\\site-packages (from matplotlib) (2.8.2)\n",
      "Requirement already satisfied: wheel<1.0,>=0.23.0 in c:\\users\\aryan suri\\appdata\\local\\programs\\python\\python311\\lib\\site-packages (from astunparse>=1.6.0->tensorflow-intel==2.14.0->tensorflow) (0.41.2)\n",
      "Requirement already satisfied: google-auth<3,>=1.6.3 in c:\\users\\aryan suri\\appdata\\local\\programs\\python\\python311\\lib\\site-packages (from tensorboard<2.15,>=2.14->tensorflow-intel==2.14.0->tensorflow) (2.23.3)\n",
      "Requirement already satisfied: google-auth-oauthlib<1.1,>=0.5 in c:\\users\\aryan suri\\appdata\\local\\programs\\python\\python311\\lib\\site-packages (from tensorboard<2.15,>=2.14->tensorflow-intel==2.14.0->tensorflow) (1.0.0)\n",
      "Requirement already satisfied: markdown>=2.6.8 in c:\\users\\aryan suri\\appdata\\local\\programs\\python\\python311\\lib\\site-packages (from tensorboard<2.15,>=2.14->tensorflow-intel==2.14.0->tensorflow) (3.5)\n",
      "Requirement already satisfied: requests<3,>=2.21.0 in c:\\users\\aryan suri\\appdata\\local\\programs\\python\\python311\\lib\\site-packages (from tensorboard<2.15,>=2.14->tensorflow-intel==2.14.0->tensorflow) (2.31.0)\n",
      "Requirement already satisfied: tensorboard-data-server<0.8.0,>=0.7.0 in c:\\users\\aryan suri\\appdata\\local\\programs\\python\\python311\\lib\\site-packages (from tensorboard<2.15,>=2.14->tensorflow-intel==2.14.0->tensorflow) (0.7.1)\n",
      "Requirement already satisfied: werkzeug>=1.0.1 in c:\\users\\aryan suri\\appdata\\local\\programs\\python\\python311\\lib\\site-packages (from tensorboard<2.15,>=2.14->tensorflow-intel==2.14.0->tensorflow) (3.0.0)\n",
      "Requirement already satisfied: cachetools<6.0,>=2.0.0 in c:\\users\\aryan suri\\appdata\\local\\programs\\python\\python311\\lib\\site-packages (from google-auth<3,>=1.6.3->tensorboard<2.15,>=2.14->tensorflow-intel==2.14.0->tensorflow) (5.3.1)\n",
      "Requirement already satisfied: pyasn1-modules>=0.2.1 in c:\\users\\aryan suri\\appdata\\local\\programs\\python\\python311\\lib\\site-packages (from google-auth<3,>=1.6.3->tensorboard<2.15,>=2.14->tensorflow-intel==2.14.0->tensorflow) (0.3.0)\n",
      "Requirement already satisfied: rsa<5,>=3.1.4 in c:\\users\\aryan suri\\appdata\\local\\programs\\python\\python311\\lib\\site-packages (from google-auth<3,>=1.6.3->tensorboard<2.15,>=2.14->tensorflow-intel==2.14.0->tensorflow) (4.9)\n",
      "Requirement already satisfied: requests-oauthlib>=0.7.0 in c:\\users\\aryan suri\\appdata\\local\\programs\\python\\python311\\lib\\site-packages (from google-auth-oauthlib<1.1,>=0.5->tensorboard<2.15,>=2.14->tensorflow-intel==2.14.0->tensorflow) (1.3.1)\n",
      "Requirement already satisfied: charset-normalizer<4,>=2 in c:\\users\\aryan suri\\appdata\\local\\programs\\python\\python311\\lib\\site-packages (from requests<3,>=2.21.0->tensorboard<2.15,>=2.14->tensorflow-intel==2.14.0->tensorflow) (3.3.0)\n",
      "Requirement already satisfied: idna<4,>=2.5 in c:\\users\\aryan suri\\appdata\\local\\programs\\python\\python311\\lib\\site-packages (from requests<3,>=2.21.0->tensorboard<2.15,>=2.14->tensorflow-intel==2.14.0->tensorflow) (3.4)\n",
      "Requirement already satisfied: urllib3<3,>=1.21.1 in c:\\users\\aryan suri\\appdata\\local\\programs\\python\\python311\\lib\\site-packages (from requests<3,>=2.21.0->tensorboard<2.15,>=2.14->tensorflow-intel==2.14.0->tensorflow) (2.0.7)\n",
      "Requirement already satisfied: certifi>=2017.4.17 in c:\\users\\aryan suri\\appdata\\local\\programs\\python\\python311\\lib\\site-packages (from requests<3,>=2.21.0->tensorboard<2.15,>=2.14->tensorflow-intel==2.14.0->tensorflow) (2023.7.22)\n",
      "Requirement already satisfied: MarkupSafe>=2.1.1 in c:\\users\\aryan suri\\appdata\\local\\programs\\python\\python311\\lib\\site-packages (from werkzeug>=1.0.1->tensorboard<2.15,>=2.14->tensorflow-intel==2.14.0->tensorflow) (2.1.3)\n",
      "Requirement already satisfied: pyasn1<0.6.0,>=0.4.6 in c:\\users\\aryan suri\\appdata\\local\\programs\\python\\python311\\lib\\site-packages (from pyasn1-modules>=0.2.1->google-auth<3,>=1.6.3->tensorboard<2.15,>=2.14->tensorflow-intel==2.14.0->tensorflow) (0.5.0)\n",
      "Requirement already satisfied: oauthlib>=3.0.0 in c:\\users\\aryan suri\\appdata\\local\\programs\\python\\python311\\lib\\site-packages (from requests-oauthlib>=0.7.0->google-auth-oauthlib<1.1,>=0.5->tensorboard<2.15,>=2.14->tensorflow-intel==2.14.0->tensorflow) (3.2.2)\n"
     ]
    },
    {
     "name": "stderr",
     "output_type": "stream",
     "text": [
      "\n",
      "[notice] A new release of pip is available: 23.2.1 -> 23.3.1\n",
      "[notice] To update, run: python.exe -m pip install --upgrade pip\n"
     ]
    }
   ],
   "source": [
    "!pip install tensorflow opencv-python matplotlib"
   ]
  },
  {
   "cell_type": "code",
   "execution_count": 2,
   "id": "83f651c4-1f36-48ff-8258-398d2508796f",
   "metadata": {},
   "outputs": [
    {
     "name": "stdout",
     "output_type": "stream",
     "text": [
      "Package                      Version\n",
      "---------------------------- ------------\n",
      "absl-py                      2.0.0\n",
      "anyio                        4.0.0\n",
      "argon2-cffi                  23.1.0\n",
      "argon2-cffi-bindings         21.2.0\n",
      "arrow                        1.3.0\n",
      "asttokens                    2.4.0\n",
      "astunparse                   1.6.3\n",
      "async-lru                    2.0.4\n",
      "attrs                        23.1.0\n",
      "Babel                        2.13.0\n",
      "backcall                     0.2.0\n",
      "beautifulsoup4               4.12.2\n",
      "bleach                       6.1.0\n",
      "cachetools                   5.3.1\n",
      "certifi                      2023.7.22\n",
      "cffi                         1.16.0\n",
      "charset-normalizer           3.3.0\n",
      "cloudpickle                  3.0.0\n",
      "colorama                     0.4.6\n",
      "comm                         0.1.4\n",
      "contourpy                    1.1.1\n",
      "cycler                       0.12.1\n",
      "debugpy                      1.8.0\n",
      "decorator                    5.1.1\n",
      "defusedxml                   0.7.1\n",
      "EasyProcess                  1.1\n",
      "entrypoint2                  1.1\n",
      "executing                    2.0.0\n",
      "fastjsonschema               2.18.1\n",
      "flatbuffers                  23.5.26\n",
      "fonttools                    4.43.1\n",
      "fqdn                         1.5.1\n",
      "gast                         0.5.4\n",
      "google-auth                  2.23.3\n",
      "google-auth-oauthlib         1.0.0\n",
      "google-pasta                 0.2.0\n",
      "grpcio                       1.59.0\n",
      "gym                          0.26.2\n",
      "gym-notices                  0.0.8\n",
      "h5py                         3.10.0\n",
      "HandTrackingModule           0.1\n",
      "idna                         3.4\n",
      "ipykernel                    6.25.2\n",
      "ipython                      8.16.1\n",
      "ipython-genutils             0.2.0\n",
      "ipywidgets                   8.1.1\n",
      "isoduration                  20.11.0\n",
      "jedi                         0.19.1\n",
      "Jinja2                       3.1.2\n",
      "json5                        0.9.14\n",
      "jsonpointer                  2.4\n",
      "jsonschema                   4.19.1\n",
      "jsonschema-specifications    2023.7.1\n",
      "jupyter                      1.0.0\n",
      "jupyter_client               8.4.0\n",
      "jupyter-console              6.6.3\n",
      "jupyter_core                 5.4.0\n",
      "jupyter-events               0.8.0\n",
      "jupyter-lsp                  2.2.0\n",
      "jupyter_server               2.8.0\n",
      "jupyter_server_terminals     0.4.4\n",
      "jupyterlab                   4.0.7\n",
      "jupyterlab-pygments          0.2.2\n",
      "jupyterlab_server            2.25.0\n",
      "jupyterlab-widgets           3.0.9\n",
      "keras                        2.14.0\n",
      "kiwisolver                   1.4.5\n",
      "libclang                     16.0.6\n",
      "Markdown                     3.5\n",
      "MarkupSafe                   2.1.3\n",
      "matplotlib                   3.8.0\n",
      "matplotlib-inline            0.1.6\n",
      "mediapipe                    0.10.7\n",
      "mistune                      3.0.2\n",
      "ml-dtypes                    0.2.0\n",
      "MouseInfo                    0.1.3\n",
      "mss                          9.0.1\n",
      "nbclient                     0.8.0\n",
      "nbconvert                    7.9.2\n",
      "nbformat                     5.9.2\n",
      "nest-asyncio                 1.5.8\n",
      "notebook                     7.0.6\n",
      "notebook_shim                0.2.3\n",
      "numpy                        1.26.1\n",
      "oauthlib                     3.2.2\n",
      "opencv-contrib-python        4.8.1.78\n",
      "opencv-python                4.8.1.78\n",
      "opt-einsum                   3.3.0\n",
      "overrides                    7.4.0\n",
      "packaging                    23.2\n",
      "pandas                       2.1.1\n",
      "pandocfilters                1.5.0\n",
      "parso                        0.8.3\n",
      "pickleshare                  0.7.5\n",
      "Pillow                       10.1.0\n",
      "pip                          23.2.1\n",
      "platformdirs                 3.11.0\n",
      "prometheus-client            0.17.1\n",
      "prompt-toolkit               3.0.39\n",
      "protobuf                     3.20.3\n",
      "psutil                       5.9.6\n",
      "pure-eval                    0.2.2\n",
      "pyasn1                       0.5.0\n",
      "pyasn1-modules               0.3.0\n",
      "PyAutoGUI                    0.9.54\n",
      "pycparser                    2.21\n",
      "PyGetWindow                  0.0.9\n",
      "Pygments                     2.16.1\n",
      "PyMsgBox                     1.0.9\n",
      "pyparsing                    3.1.1\n",
      "pyperclip                    1.8.2\n",
      "PyRect                       0.2.0\n",
      "pyscreenshot                 3.1\n",
      "PyScreeze                    0.1.29\n",
      "python-dateutil              2.8.2\n",
      "python-dotenv                1.0.0\n",
      "python-json-logger           2.0.7\n",
      "pytweening                   1.0.7\n",
      "pytz                         2023.3.post1\n",
      "pywin32                      306\n",
      "pywinpty                     2.0.12\n",
      "PyYAML                       6.0.1\n",
      "pyzmq                        25.1.1\n",
      "qtconsole                    5.4.4\n",
      "QtPy                         2.4.1\n",
      "referencing                  0.30.2\n",
      "requests                     2.31.0\n",
      "requests-oauthlib            1.3.1\n",
      "rfc3339-validator            0.1.4\n",
      "rfc3986-validator            0.1.1\n",
      "rpds-py                      0.10.6\n",
      "rsa                          4.9\n",
      "Send2Trash                   1.8.2\n",
      "setuptools                   65.5.0\n",
      "six                          1.16.0\n",
      "sniffio                      1.3.0\n",
      "sounddevice                  0.4.6\n",
      "soupsieve                    2.5\n",
      "stack-data                   0.6.3\n",
      "tensorboard                  2.14.1\n",
      "tensorboard-data-server      0.7.1\n",
      "tensorflow                   2.14.0\n",
      "tensorflow-estimator         2.14.0\n",
      "tensorflow-intel             2.14.0\n",
      "tensorflow-io-gcs-filesystem 0.31.0\n",
      "termcolor                    2.3.0\n",
      "terminado                    0.17.1\n",
      "tinycss2                     1.2.1\n",
      "tornado                      6.3.3\n",
      "tqdm                         4.66.1\n",
      "traitlets                    5.11.2\n",
      "types-python-dateutil        2.8.19.14\n",
      "typing_extensions            4.8.0\n",
      "tzdata                       2023.3\n",
      "uri-template                 1.3.0\n",
      "urllib3                      2.0.7\n",
      "wcwidth                      0.2.8\n",
      "webcolors                    1.13\n",
      "webencodings                 0.5.1\n",
      "websocket-client             1.6.4\n",
      "Werkzeug                     3.0.0\n",
      "wheel                        0.41.2\n",
      "widgetsnbextension           4.0.9\n",
      "winrt-runtime                2.0.0b1\n",
      "winrt-Windows.Media.Control  2.0.0b1\n",
      "wrapt                        1.14.1\n"
     ]
    },
    {
     "name": "stderr",
     "output_type": "stream",
     "text": [
      "\n",
      "[notice] A new release of pip is available: 23.2.1 -> 23.3.1\n",
      "[notice] To update, run: python.exe -m pip install --upgrade pip\n"
     ]
    }
   ],
   "source": [
    "!pip list"
   ]
  },
  {
   "cell_type": "code",
   "execution_count": 1,
   "id": "2a5c7198-f23d-4f21-b670-caef99701a35",
   "metadata": {},
   "outputs": [],
   "source": [
    "import tensorflow as tf\n",
    "import os"
   ]
  },
  {
   "cell_type": "code",
   "execution_count": 2,
   "id": "582fb3ca-9731-4a99-901e-ae3ce20f701d",
   "metadata": {
    "scrolled": true
   },
   "outputs": [
    {
     "name": "stderr",
     "output_type": "stream",
     "text": [
      "C:\\Users\\ARYAN SURI\\AppData\\Local\\Temp\\ipykernel_20216\\4232469594.py:2: DeprecationWarning: 'imghdr' is deprecated and slated for removal in Python 3.13\n",
      "  import imghdr\n"
     ]
    }
   ],
   "source": [
    "import cv2\n",
    "import imghdr"
   ]
  },
  {
   "cell_type": "code",
   "execution_count": 3,
   "id": "7548e929-722f-4e5c-8b7c-c4db4f0e0313",
   "metadata": {},
   "outputs": [],
   "source": [
    "data_dir = \"Data\""
   ]
  },
  {
   "cell_type": "code",
   "execution_count": 4,
   "id": "5501f5f7-9635-4508-90fa-6e0fe676c362",
   "metadata": {},
   "outputs": [],
   "source": [
    "image_exts = ['jpeg', 'jpg', 'bmp', 'png']"
   ]
  },
  {
   "cell_type": "code",
   "execution_count": 5,
   "id": "614b45c7-b412-41f7-8bba-f7498d02fad2",
   "metadata": {},
   "outputs": [
    {
     "data": {
      "text/plain": [
       "['05-12-21-happy-people.jpg',\n",
       " '1000_F_165246984_Ihe5LVattiq8zEPivcPqrtM85x7noWJw.jpg',\n",
       " '1000_F_176864699_2rY3V6rmOJ2EexazQGd1NnOnCherr6Sk.jpg',\n",
       " '170404-happy-workers-feature.jpg',\n",
       " '1920px-face-smile.svg_.png',\n",
       " '1dd385ada2e2a3439b47f3cea5052ab46479c56a-1200x700.png',\n",
       " '1HEoLBLidT2u4mhJ0oiDgig.png',\n",
       " '1_617fd1e2590c2.jpg',\n",
       " '20150413185238-secrets-happy-entrepreneurs-woman-gratitude-rainbow-.jpeg',\n",
       " '20150708124649-simple-secret-happy-life-woman-enjoy-joy.jpeg',\n",
       " '35438_hd.jpg',\n",
       " '41740_hd.jpg',\n",
       " '56f455011e0000b300705475.jpeg',\n",
       " '613k1XcpYCL.jpg',\n",
       " '6a4264642bba4cbce747ef68613fa71122b7db1f8ab4fa1c7bedeab635dd1146.png',\n",
       " '7VR73K6EP5ETVEOUFANWBUYJEQ.jpg',\n",
       " '8e06de1bf2171da2312b6de61c61e4bc.jpg',\n",
       " '988689_Wallpaper2.jpg',\n",
       " '9b65a25adca61c48bcb01370116723e3.jpg',\n",
       " 'AKPQZvx7kLC1rK5GU03E8pDWwrciELjaMil9bUaX-LDJzws64-c-mo.jpg',\n",
       " 'A_Sep20_14_1189155141.jpg',\n",
       " 'ce529eea8c0ca9987656fa90474563d6.jpg',\n",
       " 'compassion.jpg',\n",
       " 'dv2051009.jpg',\n",
       " 'file-20230208-27-3jttof.jpg',\n",
       " 'five-happy-african-people-cheering-studio-shot-isolated-41128510.jpg',\n",
       " 'friends-happy-190821.jpg',\n",
       " 'friends_190412.jpg',\n",
       " 'gdfVVm_MyCRtqpvdkt8vtSB1n_oz_CpwCq6vNMpj0S8.jpg',\n",
       " 'GettyImages-871518740.jpg',\n",
       " 'getty_107808334_121413.jpg',\n",
       " 'getty_107808336_9708069704500170_50554.jpg',\n",
       " 'getty_143919450_9706479704500104_51510.jpg',\n",
       " 'getty_152414899_97046097045006_68075.jpg',\n",
       " 'getty_478389113_970647970450091_99776.jpg',\n",
       " 'getty_505175324_2000131020009280246_158016.jpg',\n",
       " 'goup-happy-people-35582464.jpg',\n",
       " 'goup-happy-people-group-jumping-isolated-white-background-35581971.jpg',\n",
       " 'goup-happy-people-group-jumping-isolated-white-background-35582232.jpg',\n",
       " 'group-happy-people-party-isolated-white-background-31666248.jpg',\n",
       " 'group-people-posing-photo-with-words-happy-bottom_577115-4097.jpg',\n",
       " 'group-young-happy-people-with-their-hands-up_369728-62.jpg',\n",
       " 'guilherme-stecanella-375176-unsplash.jpg',\n",
       " 'habits-of-happy-people-jpg.jpg',\n",
       " 'hand-drawn-happy-friends-jumping_23-2149095224.jpg',\n",
       " 'hand-drawn-happy-people-jumping_23-2149092878.jpg',\n",
       " 'Happiness-Habits-10-Things-Happy-People-Do-Before-Bed.jpg',\n",
       " 'happiness_thumbnail.jpg',\n",
       " 'happy-190806.jpg',\n",
       " 'happy-indians_5f66fd46d9f5b.jpg',\n",
       " 'Happy-people-800x533.jpg',\n",
       " 'happy-people-crowd-board-text-8048542.jpg',\n",
       " 'happy-people-group-fb.jpg',\n",
       " 'happy-people-jump-with-raised-arms-characters-win_107791-14884.jpg',\n",
       " 'happy-people.jpg',\n",
       " 'happy-people2.jpg',\n",
       " 'happy-people21.jpg',\n",
       " 'happy-people3.jpeg',\n",
       " 'happy-people4.jpg',\n",
       " 'happy-person.jpeg',\n",
       " 'Happy.jpg',\n",
       " 'happypeople-1024x679.jpg',\n",
       " 'happy_1_1678616873966_1678616915228_1678616915228.jpg',\n",
       " 'hology-happy-people-young-woman-running-multicolored-balloons-beach-71974216.jpg',\n",
       " 'image.jpeg',\n",
       " 'image10.jpeg',\n",
       " 'image11.jpeg',\n",
       " 'image12.jpeg',\n",
       " 'image13.jpeg',\n",
       " 'image14.jpeg',\n",
       " 'image15.jpeg',\n",
       " 'image16.jpeg',\n",
       " 'image17.jpeg',\n",
       " 'image18.jpeg',\n",
       " 'image19.jpeg',\n",
       " 'image2.jpeg',\n",
       " 'image20.jpeg',\n",
       " 'image21.jpeg',\n",
       " 'image22.jpeg',\n",
       " 'image23.jpeg',\n",
       " 'image24.jpeg',\n",
       " 'image25.jpeg',\n",
       " 'image26.jpeg',\n",
       " 'image27.jpeg',\n",
       " 'image28.jpeg',\n",
       " 'image29.jpeg',\n",
       " 'image3.jpeg',\n",
       " 'image30.jpeg',\n",
       " 'image31.png',\n",
       " 'image32.png',\n",
       " 'image4.jpeg',\n",
       " 'image5.jpeg',\n",
       " 'image6.jpeg',\n",
       " 'image7.jpeg',\n",
       " 'image8.jpeg',\n",
       " 'image9.jpeg',\n",
       " 'images.jpg',\n",
       " 'images10.jpg',\n",
       " 'images11.jpg',\n",
       " 'images12.jpg',\n",
       " 'images13.jpg',\n",
       " 'images14.jpg',\n",
       " 'images15.jpg',\n",
       " 'images16.jpg',\n",
       " 'images17.jpg',\n",
       " 'images2.jpg',\n",
       " 'images3.jpg',\n",
       " 'images4.jpg',\n",
       " 'images5.jpg',\n",
       " 'images6.jpg',\n",
       " 'images7.jpg',\n",
       " 'images8.jpg',\n",
       " 'images9.jpg',\n",
       " 'inspiringquotesaboutsuccess.png',\n",
       " 'ipsos-global-advisor-happiness-2022-opti.jpg',\n",
       " 'jumping-and-dancing-happy-people-positive-emotions-set-illustration-free-vector.jpg',\n",
       " 'maxresdefault.jpg',\n",
       " 'maxresdefault2.jpg',\n",
       " 'maxresdefault3.jpg',\n",
       " 'nm-how-happiness-affects-health-tnail.jpg',\n",
       " 'og_image_jumpstory-download20230421-155938_7a7b427.jpg',\n",
       " 'physed-happiness-superJumbo.jpg',\n",
       " 'png-clipart-happiness-graphy-smile-happy-people-love-photography.png',\n",
       " 'png-transparent-happiness-love-happy-people-love-child-hand-thumbnail.png',\n",
       " 'riskshappypeopletakeh_1384254283.jpg',\n",
       " 'Screen-Shot-2012-10-23-at-12.57.22-PM.png',\n",
       " 'smile.woman_.jpg',\n",
       " 'Super-Happy-People-yay.jpg',\n",
       " 'Travis-Bradberry-Happy.jpg',\n",
       " 'web3-happy-people-outside-smile-sun-nature-eduardo-dutra-620857-unsplash.jpg',\n",
       " 'what-makes-people-happy.jpeg',\n",
       " 'where-to-watch-shiny-happy-people.jpg',\n",
       " 'young-and-happy-people-vector-15114154.jpg',\n",
       " '_happy_jumping_on_beach-40815.jpg']"
      ]
     },
     "execution_count": 5,
     "metadata": {},
     "output_type": "execute_result"
    }
   ],
   "source": [
    "os.listdir(os.path.join(data_dir, \"Happy\"))"
   ]
  },
  {
   "cell_type": "code",
   "execution_count": 6,
   "id": "7ed54052-c50d-466e-869e-da049ab58dba",
   "metadata": {},
   "outputs": [],
   "source": [
    "for image_class in os.listdir(data_dir):\n",
    "    for image in os.listdir(os.path.join(data_dir, image_class)):\n",
    "        image_path = os.path.join(data_dir, image_class, image)\n",
    "        try:\n",
    "            img = cv2.imread(image_path)\n",
    "            tip = imghdr.what(image_path)\n",
    "            if tip not in image_exts:\n",
    "                print(f\"Image not in ext list {image_path}\")\n",
    "                os.remove(image_path)\n",
    "        except Exception as e:\n",
    "            print(f\"Issue with the image {image_path}\")"
   ]
  },
  {
   "cell_type": "code",
   "execution_count": 7,
   "id": "bd9e52ee-56db-42d3-b9e8-98b33c5e56c8",
   "metadata": {},
   "outputs": [],
   "source": [
    "import numpy as np\n",
    "from matplotlib import pyplot as plt"
   ]
  },
  {
   "cell_type": "code",
   "execution_count": 8,
   "id": "2b5dd9e7-6445-4a99-8133-6edb7d035cc2",
   "metadata": {},
   "outputs": [
    {
     "name": "stdout",
     "output_type": "stream",
     "text": [
      "Found 299 files belonging to 3 classes.\n"
     ]
    }
   ],
   "source": [
    "data = tf.keras.utils.image_dataset_from_directory('Data')"
   ]
  },
  {
   "cell_type": "code",
   "execution_count": 9,
   "id": "a8105d86-aa4a-4c5f-981a-d86fc14f4ca1",
   "metadata": {},
   "outputs": [],
   "source": [
    "data_iterator = data.as_numpy_iterator()"
   ]
  },
  {
   "cell_type": "code",
   "execution_count": 10,
   "id": "640d8358-4ddb-4f90-b341-48b6a8627eb9",
   "metadata": {},
   "outputs": [],
   "source": [
    "batch = data_iterator.next()"
   ]
  },
  {
   "cell_type": "code",
   "execution_count": 11,
   "id": "6ffd7383-a506-4a58-8f90-b8fdb632cea7",
   "metadata": {},
   "outputs": [
    {
     "data": {
      "text/plain": [
       "(32, 256, 256, 3)"
      ]
     },
     "execution_count": 11,
     "metadata": {},
     "output_type": "execute_result"
    }
   ],
   "source": [
    "#Images represented as numpy arrays\n",
    "batch[0].shape"
   ]
  },
  {
   "cell_type": "code",
   "execution_count": 12,
   "id": "bb668f70-aec0-406e-8883-92b035954e70",
   "metadata": {},
   "outputs": [
    {
     "data": {
      "text/plain": [
       "array([1, 1, 0, 0, 1, 1, 1, 1, 1, 0, 1, 1, 0, 1, 1, 1, 1, 1, 0, 1, 1, 0,\n",
       "       1, 1, 1, 1, 1, 1, 1, 0, 1, 0])"
      ]
     },
     "execution_count": 12,
     "metadata": {},
     "output_type": "execute_result"
    }
   ],
   "source": [
    "batch[1]"
   ]
  },
  {
   "cell_type": "code",
   "execution_count": 13,
   "id": "280406fa-840d-4772-a658-56f22c355b01",
   "metadata": {},
   "outputs": [],
   "source": [
    "##Preprocessing Data"
   ]
  },
  {
   "cell_type": "code",
   "execution_count": 14,
   "id": "f6e075cf-5a14-4578-b059-1ec3b680a07c",
   "metadata": {},
   "outputs": [],
   "source": [
    "scaled = batch[0]/255"
   ]
  },
  {
   "cell_type": "code",
   "execution_count": 15,
   "id": "b5361247-b9a8-46c3-a99b-02da59423a23",
   "metadata": {},
   "outputs": [
    {
     "data": {
      "text/plain": [
       "0.0"
      ]
     },
     "execution_count": 15,
     "metadata": {},
     "output_type": "execute_result"
    }
   ],
   "source": [
    "scaled.min()"
   ]
  },
  {
   "cell_type": "code",
   "execution_count": 16,
   "id": "362af6b2-7c81-472a-b8b7-fe8f52dce401",
   "metadata": {},
   "outputs": [
    {
     "data": {
      "text/plain": [
       "1.0"
      ]
     },
     "execution_count": 16,
     "metadata": {},
     "output_type": "execute_result"
    }
   ],
   "source": [
    "scaled.max()"
   ]
  },
  {
   "cell_type": "code",
   "execution_count": 17,
   "id": "665e8626-0960-44ed-aac3-18772dde3384",
   "metadata": {},
   "outputs": [],
   "source": [
    "data = data.map(lambda x,y: (x/255 , y))"
   ]
  },
  {
   "cell_type": "code",
   "execution_count": 18,
   "id": "f03cbe33-964c-477f-926a-8525da33ebd9",
   "metadata": {},
   "outputs": [
    {
     "data": {
      "text/plain": [
       "(array([[[[5.95138259e-02, 5.95138259e-02, 6.73569590e-02],\n",
       "          [6.49954975e-02, 5.71523644e-02, 6.89170659e-02],\n",
       "          [7.50899985e-02, 7.50899985e-02, 8.51390138e-02],\n",
       "          ...,\n",
       "          [0.00000000e+00, 0.00000000e+00, 0.00000000e+00],\n",
       "          [0.00000000e+00, 0.00000000e+00, 0.00000000e+00],\n",
       "          [0.00000000e+00, 0.00000000e+00, 0.00000000e+00]],\n",
       " \n",
       "         [[6.79275841e-02, 7.05470666e-02, 7.72571042e-02],\n",
       "          [8.49417895e-02, 7.70986527e-02, 8.88633579e-02],\n",
       "          [8.04017335e-02, 7.25585967e-02, 8.43233019e-02],\n",
       "          ...,\n",
       "          [0.00000000e+00, 0.00000000e+00, 0.00000000e+00],\n",
       "          [0.00000000e+00, 0.00000000e+00, 0.00000000e+00],\n",
       "          [0.00000000e+00, 0.00000000e+00, 0.00000000e+00]],\n",
       " \n",
       "         [[7.18027130e-02, 6.78811446e-02, 8.74889866e-02],\n",
       "          [7.21224919e-02, 6.42793551e-02, 6.96739033e-02],\n",
       "          [9.49022472e-02, 8.70591104e-02, 9.18385237e-02],\n",
       "          ...,\n",
       "          [0.00000000e+00, 0.00000000e+00, 0.00000000e+00],\n",
       "          [0.00000000e+00, 0.00000000e+00, 0.00000000e+00],\n",
       "          [0.00000000e+00, 0.00000000e+00, 0.00000000e+00]],\n",
       " \n",
       "         ...,\n",
       " \n",
       "         [[8.12557433e-03, 8.12557433e-03, 8.12557433e-03],\n",
       "          [1.14889711e-03, 1.14889711e-03, 1.14889711e-03],\n",
       "          [5.02642477e-04, 5.02642477e-04, 5.02642477e-04],\n",
       "          ...,\n",
       "          [0.00000000e+00, 0.00000000e+00, 0.00000000e+00],\n",
       "          [0.00000000e+00, 0.00000000e+00, 0.00000000e+00],\n",
       "          [0.00000000e+00, 0.00000000e+00, 0.00000000e+00]],\n",
       " \n",
       "         [[2.72719446e-03, 2.72719446e-03, 2.72719446e-03],\n",
       "          [6.00490207e-03, 6.00490207e-03, 6.00490207e-03],\n",
       "          [0.00000000e+00, 0.00000000e+00, 0.00000000e+00],\n",
       "          ...,\n",
       "          [0.00000000e+00, 0.00000000e+00, 0.00000000e+00],\n",
       "          [0.00000000e+00, 0.00000000e+00, 0.00000000e+00],\n",
       "          [0.00000000e+00, 0.00000000e+00, 0.00000000e+00]],\n",
       " \n",
       "         [[3.34472652e-03, 3.34472652e-03, 3.34472652e-03],\n",
       "          [7.85845611e-03, 7.85845611e-03, 7.85845611e-03],\n",
       "          [6.80577895e-03, 6.80577895e-03, 6.80577895e-03],\n",
       "          ...,\n",
       "          [0.00000000e+00, 0.00000000e+00, 0.00000000e+00],\n",
       "          [0.00000000e+00, 0.00000000e+00, 0.00000000e+00],\n",
       "          [0.00000000e+00, 0.00000000e+00, 0.00000000e+00]]],\n",
       " \n",
       " \n",
       "        [[[1.17110908e-01, 1.13189340e-01, 2.77895212e-01],\n",
       "          [9.96476710e-02, 9.57261026e-02, 2.60431975e-01],\n",
       "          [1.01960786e-01, 9.80392173e-02, 2.62745112e-01],\n",
       "          ...,\n",
       "          [1.21568628e-01, 1.21568628e-01, 2.70588249e-01],\n",
       "          [1.21568628e-01, 1.21568628e-01, 2.70588249e-01],\n",
       "          [1.21568628e-01, 1.21568628e-01, 2.70588249e-01]],\n",
       " \n",
       "         [[1.17110908e-01, 1.13189340e-01, 2.77895212e-01],\n",
       "          [9.96476710e-02, 9.57261026e-02, 2.60431975e-01],\n",
       "          [1.01960786e-01, 9.80392173e-02, 2.62745112e-01],\n",
       "          ...,\n",
       "          [1.21568628e-01, 1.21568628e-01, 2.70588249e-01],\n",
       "          [1.21568628e-01, 1.21568628e-01, 2.70588249e-01],\n",
       "          [1.21568628e-01, 1.21568628e-01, 2.70588249e-01]],\n",
       " \n",
       "         [[1.13725491e-01, 1.09803922e-01, 2.74509817e-01],\n",
       "          [1.02466300e-01, 9.85447317e-02, 2.63250619e-01],\n",
       "          [1.05416454e-01, 1.01494886e-01, 2.66200751e-01],\n",
       "          ...,\n",
       "          [1.21568628e-01, 1.21568628e-01, 2.70588249e-01],\n",
       "          [1.21568628e-01, 1.21568628e-01, 2.70588249e-01],\n",
       "          [1.21568628e-01, 1.21568628e-01, 2.70588249e-01]],\n",
       " \n",
       "         ...,\n",
       " \n",
       "         [[9.18658078e-02, 1.31081492e-01, 2.68336385e-01],\n",
       "          [1.06112130e-01, 1.45327821e-01, 2.82582730e-01],\n",
       "          [9.91727933e-02, 1.38388485e-01, 2.75643378e-01],\n",
       "          ...,\n",
       "          [1.48299634e-01, 1.79672182e-01, 3.71829033e-01],\n",
       "          [1.02910541e-01, 1.34283096e-01, 3.26439947e-01],\n",
       "          [1.04748778e-01, 1.12591915e-01, 3.12591910e-01]],\n",
       " \n",
       "         [[7.59344399e-02, 1.13373160e-01, 2.52283543e-01],\n",
       "          [9.01807621e-02, 1.27619490e-01, 2.66127288e-01],\n",
       "          [8.32414180e-02, 1.20680146e-01, 2.59104639e-01],\n",
       "          ...,\n",
       "          [1.80039823e-01, 2.11412370e-01, 4.03569251e-01],\n",
       "          [1.33517161e-01, 1.64889708e-01, 3.57046574e-01],\n",
       "          [1.20680146e-01, 1.29411772e-01, 3.29411775e-01]],\n",
       " \n",
       "         [[9.01960805e-02, 1.01960786e-01, 2.62745112e-01],\n",
       "          [9.01960805e-02, 1.01960786e-01, 2.62745112e-01],\n",
       "          [9.01960805e-02, 1.01960786e-01, 2.62745112e-01],\n",
       "          ...,\n",
       "          [1.71308205e-01, 2.02680767e-01, 3.94837618e-01],\n",
       "          [1.50628060e-01, 1.82000607e-01, 3.74157488e-01],\n",
       "          [1.26026347e-01, 1.57398894e-01, 3.49555761e-01]]],\n",
       " \n",
       " \n",
       "        [[[3.58877152e-01, 3.94171268e-01, 3.90249699e-01],\n",
       "          [3.52941185e-01, 3.72870713e-01, 3.74670655e-01],\n",
       "          [3.42869192e-01, 3.53477329e-01, 3.59091610e-01],\n",
       "          ...,\n",
       "          [7.73425102e-01, 7.96954513e-01, 7.57738829e-01],\n",
       "          [7.78854370e-01, 7.87019193e-01, 7.63168097e-01],\n",
       "          [7.54679859e-01, 7.36764729e-01, 6.77619457e-01]],\n",
       " \n",
       "         [[3.47824752e-01, 3.83118868e-01, 3.79197299e-01],\n",
       "          [3.41888785e-01, 3.61818314e-01, 3.63618255e-01],\n",
       "          [3.31816792e-01, 3.42424929e-01, 3.48039210e-01],\n",
       "          ...,\n",
       "          [7.58111238e-01, 7.81640649e-01, 7.42424965e-01],\n",
       "          [7.65096486e-01, 7.73261309e-01, 7.49410212e-01],\n",
       "          [7.64286339e-01, 7.46371210e-01, 6.87225997e-01]],\n",
       " \n",
       "         [[3.39269310e-01, 3.74563426e-01, 3.70641857e-01],\n",
       "          [3.33333343e-01, 3.53262872e-01, 3.55062813e-01],\n",
       "          [3.23261350e-01, 3.33869487e-01, 3.39483768e-01],\n",
       "          ...,\n",
       "          [7.57398903e-01, 7.80928314e-01, 7.41712630e-01],\n",
       "          [7.29917288e-01, 7.38082111e-01, 7.14231014e-01],\n",
       "          [7.46109068e-01, 7.28193939e-01, 6.69048727e-01]],\n",
       " \n",
       "         ...,\n",
       " \n",
       "         [[3.38766724e-01, 3.19158882e-01, 2.44649053e-01],\n",
       "          [3.23981315e-01, 3.04373473e-01, 2.29863659e-01],\n",
       "          [3.09803933e-01, 2.90196091e-01, 2.15686277e-01],\n",
       "          ...,\n",
       "          [6.88503385e-01, 7.23797500e-01, 7.07575083e-01],\n",
       "          [7.00773597e-01, 7.42110908e-01, 7.14981616e-01],\n",
       "          [6.97426498e-01, 7.30491757e-01, 6.98904693e-01]],\n",
       " \n",
       "         [[3.19056362e-01, 3.07291657e-01, 2.40624994e-01],\n",
       "          [3.04848343e-01, 2.93083638e-01, 2.26416975e-01],\n",
       "          [2.97326893e-01, 2.85562187e-01, 2.18895525e-01],\n",
       "          ...,\n",
       "          [6.88503385e-01, 7.23797500e-01, 7.07575083e-01],\n",
       "          [6.91932321e-01, 7.33269691e-01, 7.06140399e-01],\n",
       "          [6.99102104e-01, 7.32167363e-01, 7.00580359e-01]],\n",
       " \n",
       "         [[3.12041044e-01, 2.99801469e-01, 2.32659891e-01],\n",
       "          [2.97737002e-01, 2.85497427e-01, 2.18355879e-01],\n",
       "          [2.94457585e-01, 2.82218009e-01, 2.15076447e-01],\n",
       "          ...,\n",
       "          [6.87758625e-01, 7.23052740e-01, 7.06830323e-01],\n",
       "          [6.90442920e-01, 7.31780231e-01, 7.04650939e-01],\n",
       "          [6.80084586e-01, 7.13149846e-01, 6.81562841e-01]]],\n",
       " \n",
       " \n",
       "        ...,\n",
       " \n",
       " \n",
       "        [[[1.00000000e+00, 1.00000000e+00, 1.00000000e+00],\n",
       "          [1.00000000e+00, 1.00000000e+00, 1.00000000e+00],\n",
       "          [1.00000000e+00, 1.00000000e+00, 1.00000000e+00],\n",
       "          ...,\n",
       "          [9.97203410e-01, 9.97203410e-01, 9.97203410e-01],\n",
       "          [9.93446529e-01, 9.93446529e-01, 9.93446529e-01],\n",
       "          [9.28130746e-01, 9.28130746e-01, 9.28130746e-01]],\n",
       " \n",
       "         [[1.00000000e+00, 1.00000000e+00, 1.00000000e+00],\n",
       "          [1.00000000e+00, 1.00000000e+00, 1.00000000e+00],\n",
       "          [1.00000000e+00, 1.00000000e+00, 1.00000000e+00],\n",
       "          ...,\n",
       "          [9.93198514e-01, 9.93198514e-01, 9.93198514e-01],\n",
       "          [9.36510026e-01, 9.36510026e-01, 9.36510026e-01],\n",
       "          [9.93997037e-01, 9.93997037e-01, 9.93997037e-01]],\n",
       " \n",
       "         [[1.00000000e+00, 1.00000000e+00, 1.00000000e+00],\n",
       "          [1.00000000e+00, 1.00000000e+00, 1.00000000e+00],\n",
       "          [1.00000000e+00, 1.00000000e+00, 1.00000000e+00],\n",
       "          ...,\n",
       "          [9.49309707e-01, 9.49309707e-01, 9.49309707e-01],\n",
       "          [9.94735181e-01, 9.94735181e-01, 9.94735181e-01],\n",
       "          [9.97855365e-01, 9.97855365e-01, 9.97855365e-01]],\n",
       " \n",
       "         ...,\n",
       " \n",
       "         [[6.66666701e-02, 7.05882385e-02, 1.41176477e-01],\n",
       "          [6.66666701e-02, 7.05882385e-02, 1.41176477e-01],\n",
       "          [6.66666701e-02, 7.05882385e-02, 1.41176477e-01],\n",
       "          ...,\n",
       "          [6.66666701e-02, 7.05882385e-02, 1.41176477e-01],\n",
       "          [6.66666701e-02, 7.05882385e-02, 1.41176477e-01],\n",
       "          [6.66666701e-02, 7.05882385e-02, 1.41176477e-01]],\n",
       " \n",
       "         [[6.66666701e-02, 7.05882385e-02, 1.41176477e-01],\n",
       "          [6.66666701e-02, 7.05882385e-02, 1.41176477e-01],\n",
       "          [6.66666701e-02, 7.05882385e-02, 1.41176477e-01],\n",
       "          ...,\n",
       "          [6.66666701e-02, 7.05882385e-02, 1.41176477e-01],\n",
       "          [6.66666701e-02, 7.05882385e-02, 1.41176477e-01],\n",
       "          [6.66666701e-02, 7.05882385e-02, 1.41176477e-01]],\n",
       " \n",
       "         [[6.66666701e-02, 7.05882385e-02, 1.41176477e-01],\n",
       "          [6.66666701e-02, 7.05882385e-02, 1.41176477e-01],\n",
       "          [6.66666701e-02, 7.05882385e-02, 1.41176477e-01],\n",
       "          ...,\n",
       "          [6.66666701e-02, 7.05882385e-02, 1.41176477e-01],\n",
       "          [6.66666701e-02, 7.05882385e-02, 1.41176477e-01],\n",
       "          [6.66666701e-02, 7.05882385e-02, 1.41176477e-01]]],\n",
       " \n",
       " \n",
       "        [[[1.31694242e-01, 3.83088231e-01, 5.25091887e-01],\n",
       "          [1.58256739e-01, 4.18121934e-01, 5.70863962e-01],\n",
       "          [9.98927727e-02, 3.74617040e-01, 5.37469387e-01],\n",
       "          ...,\n",
       "          [5.94010413e-01, 7.54794717e-01, 8.33226085e-01],\n",
       "          [5.98759174e-01, 7.59543478e-01, 8.37974906e-01],\n",
       "          [6.03507936e-01, 7.64292300e-01, 8.42723668e-01]],\n",
       " \n",
       "         [[1.63901061e-01, 4.13322210e-01, 5.53164840e-01],\n",
       "          [1.63833678e-01, 4.17870969e-01, 5.63565135e-01],\n",
       "          [1.42626062e-01, 4.01937068e-01, 5.52199423e-01],\n",
       "          ...,\n",
       "          [5.95795035e-01, 7.56579340e-01, 8.35010707e-01],\n",
       "          [5.99323809e-01, 7.60108113e-01, 8.38539541e-01],\n",
       "          [6.03507936e-01, 7.64292300e-01, 8.42723668e-01]],\n",
       " \n",
       "         [[1.97711930e-01, 4.43822980e-01, 5.79599977e-01],\n",
       "          [1.72370642e-01, 4.15752232e-01, 5.50295949e-01],\n",
       "          [1.99444667e-01, 4.33760613e-01, 5.63128650e-01],\n",
       "          ...,\n",
       "          [5.97931981e-01, 7.58716285e-01, 8.37147653e-01],\n",
       "          [6.00246072e-01, 7.61030376e-01, 8.39461744e-01],\n",
       "          [6.03867948e-01, 7.64652252e-01, 8.43083620e-01]],\n",
       " \n",
       "         ...,\n",
       " \n",
       "         [[5.37109733e-01, 4.50115234e-01, 1.52795985e-01],\n",
       "          [5.15041947e-01, 4.28047419e-01, 1.30728185e-01],\n",
       "          [5.43927252e-01, 4.56932753e-01, 1.59613520e-01],\n",
       "          ...,\n",
       "          [7.23683715e-01, 5.94846427e-01, 3.09048444e-01],\n",
       "          [6.83982134e-01, 5.45647323e-01, 2.53347874e-01],\n",
       "          [6.92140579e-01, 5.48138142e-01, 2.47326896e-01]],\n",
       " \n",
       "         [[5.46866179e-01, 4.60591704e-01, 1.62552476e-01],\n",
       "          [5.28153479e-01, 4.41879004e-01, 1.43839791e-01],\n",
       "          [5.46684206e-01, 4.60409760e-01, 1.62370533e-01],\n",
       "          ...,\n",
       "          [7.02532709e-01, 5.76482415e-01, 2.69121826e-01],\n",
       "          [6.64812744e-01, 5.28930962e-01, 2.15601638e-01],\n",
       "          [6.90160036e-01, 5.47612548e-01, 2.29284972e-01]],\n",
       " \n",
       "         [[5.54381132e-01, 4.68106627e-01, 1.70067400e-01],\n",
       "          [5.38296580e-01, 4.52022046e-01, 1.53982848e-01],\n",
       "          [5.49019635e-01, 4.62745100e-01, 1.64705887e-01],\n",
       "          ...,\n",
       "          [6.79074764e-01, 5.55652559e-01, 2.32230395e-01],\n",
       "          [6.42539799e-01, 5.09007335e-01, 1.80836394e-01],\n",
       "          [6.80484056e-01, 5.39721191e-01, 2.10309431e-01]]],\n",
       " \n",
       " \n",
       "        [[[6.67738974e-01, 4.00398284e-01, 2.19730392e-01],\n",
       "          [6.47058845e-01, 3.84313732e-01, 1.92156866e-01],\n",
       "          [5.88235319e-01, 3.37254912e-01, 2.15686277e-01],\n",
       "          ...,\n",
       "          [1.53094366e-01, 4.36274499e-01, 4.44515944e-01],\n",
       "          [1.99280024e-01, 4.69117641e-01, 4.66069251e-01],\n",
       "          [1.99280024e-01, 4.69117641e-01, 4.66069251e-01]],\n",
       " \n",
       "         [[6.47058845e-01, 3.84313732e-01, 1.92156866e-01],\n",
       "          [6.50091887e-01, 3.86672795e-01, 1.96200982e-01],\n",
       "          [6.27451003e-01, 3.68627459e-01, 2.00000003e-01],\n",
       "          ...,\n",
       "          [2.50980407e-01, 5.05882382e-01, 4.90196079e-01],\n",
       "          [1.91697299e-01, 4.63725477e-01, 4.62530643e-01],\n",
       "          [1.33792892e-01, 4.22549009e-01, 4.35508579e-01]],\n",
       " \n",
       "         [[6.98345602e-01, 4.24203426e-01, 2.60539204e-01],\n",
       "          [6.47058845e-01, 3.84313732e-01, 1.92156866e-01],\n",
       "          [5.88235319e-01, 3.37254912e-01, 2.15686277e-01],\n",
       "          ...,\n",
       "          [2.00658694e-01, 4.70098048e-01, 4.66712624e-01],\n",
       "          [2.02726722e-01, 4.71568614e-01, 4.67677683e-01],\n",
       "          [2.02726722e-01, 4.71568614e-01, 4.67677683e-01]],\n",
       " \n",
       "         ...,\n",
       " \n",
       "         [[9.92156863e-01, 6.35294139e-01, 5.01960814e-01],\n",
       "          [9.92156863e-01, 6.43137276e-01, 5.08823514e-01],\n",
       "          [9.92156863e-01, 6.35294139e-01, 5.01960814e-01],\n",
       "          ...,\n",
       "          [3.13725501e-01, 3.84313732e-01, 3.56862754e-01],\n",
       "          [2.56969988e-01, 3.31341922e-01, 3.34160537e-01],\n",
       "          [2.55591303e-01, 3.30055147e-01, 3.33609074e-01]],\n",
       " \n",
       "         [[9.92156863e-01, 6.20435059e-01, 4.90073532e-01],\n",
       "          [9.92156863e-01, 6.35294139e-01, 5.01960814e-01],\n",
       "          [9.92156863e-01, 5.96078455e-01, 4.70588237e-01],\n",
       "          ...,\n",
       "          [2.62484670e-01, 3.36488962e-01, 3.36366415e-01],\n",
       "          [3.13725501e-01, 3.84313732e-01, 3.56862754e-01],\n",
       "          [3.06142777e-01, 3.77236515e-01, 3.53829652e-01]],\n",
       " \n",
       "         [[9.92156863e-01, 6.19975507e-01, 4.89705890e-01],\n",
       "          [9.92156863e-01, 5.96078455e-01, 4.70588237e-01],\n",
       "          [9.92156863e-01, 5.96078455e-01, 4.70588237e-01],\n",
       "          ...,\n",
       "          [2.96492040e-01, 3.68229181e-01, 3.49969357e-01],\n",
       "          [3.04764092e-01, 3.75949740e-01, 3.53278190e-01],\n",
       "          [3.13725501e-01, 3.84313732e-01, 3.56862754e-01]]]],\n",
       "       dtype=float32),\n",
       " array([1, 0, 1, 1, 0, 0, 0, 1, 1, 1, 0, 1, 0, 0, 1, 1, 1, 0, 1, 1, 0, 1,\n",
       "        1, 0, 1, 0, 1, 1, 1, 1, 0, 0]))"
      ]
     },
     "execution_count": 18,
     "metadata": {},
     "output_type": "execute_result"
    }
   ],
   "source": [
    "data.as_numpy_iterator().next()"
   ]
  },
  {
   "cell_type": "code",
   "execution_count": 19,
   "id": "1d6680b7-97a0-4be3-bb46-9c0b4d22403f",
   "metadata": {},
   "outputs": [],
   "source": [
    "#training and splitting partitions"
   ]
  },
  {
   "cell_type": "code",
   "execution_count": 20,
   "id": "864b3dad-ec17-456c-a9bf-630afe847614",
   "metadata": {},
   "outputs": [
    {
     "data": {
      "text/plain": [
       "10"
      ]
     },
     "execution_count": 20,
     "metadata": {},
     "output_type": "execute_result"
    }
   ],
   "source": [
    "len(data)"
   ]
  },
  {
   "cell_type": "code",
   "execution_count": 21,
   "id": "18794891-fa48-475c-a7f8-6730ed6ec3ec",
   "metadata": {},
   "outputs": [
    {
     "name": "stdout",
     "output_type": "stream",
     "text": [
      "10\n"
     ]
    }
   ],
   "source": [
    "train_size = int(len(data)*.7)\n",
    "val_size = int(len(data)*.2)\n",
    "test_size = int(len(data)*.1)\n",
    "print(train_size+val_size+test_size)"
   ]
  },
  {
   "cell_type": "code",
   "execution_count": 22,
   "id": "9229176e-6af0-490e-939c-df29eb9cdd0f",
   "metadata": {},
   "outputs": [],
   "source": [
    "train = data.take(train_size)\n",
    "val = data.skip(train_size).take(val_size)\n",
    "test = data.skip(train_size+val_size).take(test_size)"
   ]
  },
  {
   "cell_type": "code",
   "execution_count": 23,
   "id": "dd27d093-6d16-401a-9400-34e9fae41d6a",
   "metadata": {},
   "outputs": [],
   "source": [
    "from tensorflow.keras.models import Sequential\n",
    "from tensorflow.keras.layers import Conv2D, MaxPooling2D, Dense, Flatten, Dropout"
   ]
  },
  {
   "cell_type": "code",
   "execution_count": 24,
   "id": "0cee219f-9cfc-43b3-aceb-9b5baf904928",
   "metadata": {},
   "outputs": [],
   "source": [
    "model = Sequential()"
   ]
  },
  {
   "cell_type": "code",
   "execution_count": 25,
   "id": "516e421b-4969-4feb-bd1c-43593648c15e",
   "metadata": {},
   "outputs": [],
   "source": [
    "model.add(Conv2D(16, (3,3), 1, activation='relu', input_shape=(256,256,3)))\n",
    "model.add(MaxPooling2D())\n",
    "\n",
    "model.add(Conv2D(32, (3,3), 1, activation='relu'))\n",
    "model.add(MaxPooling2D())\n",
    "\n",
    "model.add(Conv2D(16, (3,3), 1, activation=\"relu\"))\n",
    "model.add(MaxPooling2D())\n",
    "\n",
    "model.add(Flatten())\n",
    "model.add(Dense(256, activation='relu'))\n",
    "model.add(Dense(1, activation=\"sigmoid\"))"
   ]
  },
  {
   "cell_type": "code",
   "execution_count": 26,
   "id": "0a6f9211-e5c3-4e82-8f1f-6f622a832525",
   "metadata": {},
   "outputs": [],
   "source": [
    "model.compile('adam', loss = tf.keras.losses.BinaryCrossentropy(), metrics=['accuracy'])"
   ]
  },
  {
   "cell_type": "code",
   "execution_count": 27,
   "id": "24b54d0d-4a26-4477-8950-8ae0cc8f0de1",
   "metadata": {
    "scrolled": true
   },
   "outputs": [
    {
     "name": "stdout",
     "output_type": "stream",
     "text": [
      "Model: \"sequential\"\n",
      "_________________________________________________________________\n",
      " Layer (type)                Output Shape              Param #   \n",
      "=================================================================\n",
      " conv2d (Conv2D)             (None, 254, 254, 16)      448       \n",
      "                                                                 \n",
      " max_pooling2d (MaxPooling2  (None, 127, 127, 16)      0         \n",
      " D)                                                              \n",
      "                                                                 \n",
      " conv2d_1 (Conv2D)           (None, 125, 125, 32)      4640      \n",
      "                                                                 \n",
      " max_pooling2d_1 (MaxPoolin  (None, 62, 62, 32)        0         \n",
      " g2D)                                                            \n",
      "                                                                 \n",
      " conv2d_2 (Conv2D)           (None, 60, 60, 16)        4624      \n",
      "                                                                 \n",
      " max_pooling2d_2 (MaxPoolin  (None, 30, 30, 16)        0         \n",
      " g2D)                                                            \n",
      "                                                                 \n",
      " flatten (Flatten)           (None, 14400)             0         \n",
      "                                                                 \n",
      " dense (Dense)               (None, 256)               3686656   \n",
      "                                                                 \n",
      " dense_1 (Dense)             (None, 1)                 257       \n",
      "                                                                 \n",
      "=================================================================\n",
      "Total params: 3696625 (14.10 MB)\n",
      "Trainable params: 3696625 (14.10 MB)\n",
      "Non-trainable params: 0 (0.00 Byte)\n",
      "_________________________________________________________________\n"
     ]
    }
   ],
   "source": [
    "model.summary()"
   ]
  },
  {
   "cell_type": "code",
   "execution_count": 28,
   "id": "c1e63606-cd1b-4d4a-9f2d-8e0f489265dd",
   "metadata": {},
   "outputs": [],
   "source": [
    "logdir = 'Logs'"
   ]
  },
  {
   "cell_type": "code",
   "execution_count": 29,
   "id": "5115d703-2d85-45fa-87cd-b75d81150622",
   "metadata": {},
   "outputs": [],
   "source": [
    "tensorboard_callback = tf.keras.callbacks.TensorBoard(log_dir = logdir)"
   ]
  },
  {
   "cell_type": "code",
   "execution_count": 50,
   "id": "d900594f-c2b5-4ec1-9f69-9a5a45e84fde",
   "metadata": {},
   "outputs": [
    {
     "name": "stdout",
     "output_type": "stream",
     "text": [
      "Epoch 1/20\n",
      "7/7 [==============================] - 5s 633ms/step - loss: -0.5989 - accuracy: 0.9241 - val_loss: 0.0968 - val_accuracy: 0.9531\n",
      "Epoch 2/20\n",
      "7/7 [==============================] - 5s 596ms/step - loss: -0.4263 - accuracy: 0.9598 - val_loss: 0.0097 - val_accuracy: 1.0000\n",
      "Epoch 3/20\n",
      "7/7 [==============================] - 5s 610ms/step - loss: -0.2982 - accuracy: 0.9955 - val_loss: 0.0181 - val_accuracy: 1.0000\n",
      "Epoch 4/20\n",
      "7/7 [==============================] - 5s 582ms/step - loss: -0.6927 - accuracy: 0.9866 - val_loss: 0.5770 - val_accuracy: 0.9531\n",
      "Epoch 5/20\n",
      "7/7 [==============================] - 5s 653ms/step - loss: 0.3001 - accuracy: 0.8839 - val_loss: -1.6760 - val_accuracy: 0.9688\n",
      "Epoch 6/20\n",
      "7/7 [==============================] - 5s 636ms/step - loss: -0.4808 - accuracy: 0.9777 - val_loss: -1.2462 - val_accuracy: 0.9531\n",
      "Epoch 7/20\n",
      "7/7 [==============================] - 5s 607ms/step - loss: -0.8439 - accuracy: 0.9554 - val_loss: 0.0583 - val_accuracy: 0.9844\n",
      "Epoch 8/20\n",
      "7/7 [==============================] - 5s 579ms/step - loss: -1.3573 - accuracy: 0.9821 - val_loss: -3.7884 - val_accuracy: 0.9531\n",
      "Epoch 9/20\n",
      "7/7 [==============================] - 5s 578ms/step - loss: 0.0358 - accuracy: 0.9911 - val_loss: 0.0023 - val_accuracy: 1.0000\n",
      "Epoch 10/20\n",
      "7/7 [==============================] - 5s 564ms/step - loss: -1.2317 - accuracy: 0.9777 - val_loss: -7.8066 - val_accuracy: 0.9375\n",
      "Epoch 11/20\n",
      "7/7 [==============================] - 5s 574ms/step - loss: -2.2306 - accuracy: 0.9509 - val_loss: 2.1001e-04 - val_accuracy: 1.0000\n",
      "Epoch 12/20\n",
      "7/7 [==============================] - 5s 568ms/step - loss: -1.0537 - accuracy: 0.9777 - val_loss: -4.0504 - val_accuracy: 0.9531\n",
      "Epoch 13/20\n",
      "7/7 [==============================] - 5s 583ms/step - loss: -1.1347 - accuracy: 0.9777 - val_loss: 0.3892 - val_accuracy: 0.9844\n",
      "Epoch 14/20\n",
      "7/7 [==============================] - 5s 565ms/step - loss: -3.8798 - accuracy: 0.9821 - val_loss: 6.1736e-05 - val_accuracy: 1.0000\n",
      "Epoch 15/20\n",
      "7/7 [==============================] - 5s 566ms/step - loss: -2.0264 - accuracy: 0.9509 - val_loss: 0.9661 - val_accuracy: 0.9531\n",
      "Epoch 16/20\n",
      "7/7 [==============================] - 5s 569ms/step - loss: -5.8065 - accuracy: 0.9241 - val_loss: 2.5941e-08 - val_accuracy: 1.0000\n",
      "Epoch 17/20\n",
      "7/7 [==============================] - 5s 573ms/step - loss: -6.6919 - accuracy: 0.9554 - val_loss: -17.0743 - val_accuracy: 0.9844\n",
      "Epoch 18/20\n",
      "7/7 [==============================] - 5s 581ms/step - loss: -6.8324 - accuracy: 0.9330 - val_loss: 2.0598 - val_accuracy: 0.9531\n",
      "Epoch 19/20\n",
      "7/7 [==============================] - 5s 647ms/step - loss: -9.4391 - accuracy: 0.9330 - val_loss: -20.1356 - val_accuracy: 0.9062\n",
      "Epoch 20/20\n",
      "7/7 [==============================] - 6s 647ms/step - loss: -10.3383 - accuracy: 0.9375 - val_loss: 1.0126e-10 - val_accuracy: 1.0000\n"
     ]
    }
   ],
   "source": [
    "hist = model.fit(train, epochs = 20, validation_data=val, callbacks=[tensorboard_callback])"
   ]
  },
  {
   "cell_type": "code",
   "execution_count": 51,
   "id": "50ffc694-47d7-4972-906e-456f8423d152",
   "metadata": {
    "scrolled": true
   },
   "outputs": [
    {
     "data": {
      "text/plain": [
       "{'loss': [-0.5988911986351013,\n",
       "  -0.4263021945953369,\n",
       "  -0.2981952130794525,\n",
       "  -0.6926865577697754,\n",
       "  0.30013564229011536,\n",
       "  -0.4807608127593994,\n",
       "  -0.8438910245895386,\n",
       "  -1.3572801351547241,\n",
       "  0.035751644521951675,\n",
       "  -1.2317019701004028,\n",
       "  -2.2306010723114014,\n",
       "  -1.0536563396453857,\n",
       "  -1.1347486972808838,\n",
       "  -3.8798065185546875,\n",
       "  -2.026371717453003,\n",
       "  -5.806469440460205,\n",
       "  -6.691943645477295,\n",
       "  -6.832386016845703,\n",
       "  -9.43912410736084,\n",
       "  -10.338252067565918],\n",
       " 'accuracy': [0.9241071343421936,\n",
       "  0.9598214030265808,\n",
       "  0.9955357313156128,\n",
       "  0.9866071343421936,\n",
       "  0.8839285969734192,\n",
       "  0.9776785969734192,\n",
       "  0.9553571343421936,\n",
       "  0.9821428656578064,\n",
       "  0.9910714030265808,\n",
       "  0.9776785969734192,\n",
       "  0.9508928656578064,\n",
       "  0.9776785969734192,\n",
       "  0.9776785969734192,\n",
       "  0.9821428656578064,\n",
       "  0.9508928656578064,\n",
       "  0.9241071343421936,\n",
       "  0.9553571343421936,\n",
       "  0.9330357313156128,\n",
       "  0.9330357313156128,\n",
       "  0.9375],\n",
       " 'val_loss': [0.09675435721874237,\n",
       "  0.009747914969921112,\n",
       "  0.018115472048521042,\n",
       "  0.5770470499992371,\n",
       "  -1.6760135889053345,\n",
       "  -1.2462407350540161,\n",
       "  0.05826854705810547,\n",
       "  -3.78839111328125,\n",
       "  0.0022638551890850067,\n",
       "  -7.8066325187683105,\n",
       "  0.00021000958804506809,\n",
       "  -4.0504350662231445,\n",
       "  0.38924315571784973,\n",
       "  6.173622386995703e-05,\n",
       "  0.9661345481872559,\n",
       "  2.594116566001503e-08,\n",
       "  -17.074304580688477,\n",
       "  2.059764862060547,\n",
       "  -20.13562774658203,\n",
       "  1.0125950772321701e-10],\n",
       " 'val_accuracy': [0.953125,\n",
       "  1.0,\n",
       "  1.0,\n",
       "  0.953125,\n",
       "  0.96875,\n",
       "  0.953125,\n",
       "  0.984375,\n",
       "  0.953125,\n",
       "  1.0,\n",
       "  0.9375,\n",
       "  1.0,\n",
       "  0.953125,\n",
       "  0.984375,\n",
       "  1.0,\n",
       "  0.953125,\n",
       "  1.0,\n",
       "  0.984375,\n",
       "  0.953125,\n",
       "  0.90625,\n",
       "  1.0]}"
      ]
     },
     "execution_count": 51,
     "metadata": {},
     "output_type": "execute_result"
    }
   ],
   "source": [
    "hist.history"
   ]
  },
  {
   "cell_type": "code",
   "execution_count": 52,
   "id": "6576cb64-f543-48ad-8110-5a228628392f",
   "metadata": {},
   "outputs": [
    {
     "data": {
      "image/png": "[encoded data removed]",
      "text/plain": [
       "<Figure size 640x480 with 1 Axes>"
      ]
     },
     "metadata": {},
     "output_type": "display_data"
    }
   ],
   "source": [
    "fig = plt.figure()\n",
    "plt.plot(hist.history['loss'], color='teal', label='loss')\n",
    "plt.plot(hist.history['val_loss'], color='red', label = \"val_loss\")\n",
    "fig.suptitle('loss', fontsize = 20)\n",
    "plt.legend(loc = 'upper left')\n",
    "plt.show()"
   ]
  },
  {
   "cell_type": "code",
   "execution_count": 53,
   "id": "3de72850-64cc-4472-a0d6-6f08819ad75d",
   "metadata": {},
   "outputs": [
    {
     "data": {
      "image/png": "[encoded data removed]",
      "text/plain": [
       "<Figure size 640x480 with 1 Axes>"
      ]
     },
     "metadata": {},
     "output_type": "display_data"
    }
   ],
   "source": [
    "fig = plt.figure()\n",
    "plt.plot(hist.history['accuracy'], color='blue', label = \"accuracy\")\n",
    "plt.plot(hist.history['val_accuracy'], color='grey', label = \"val_accuracy\")\n",
    "plt.suptitle(\"Accuracy\")\n",
    "plt.legend(\"upper left\")\n",
    "plt.show()"
   ]
  },
  {
   "cell_type": "code",
   "execution_count": 54,
   "id": "e766fe1f-a693-498b-b0a7-aebb929a3f88",
   "metadata": {},
   "outputs": [],
   "source": [
    "from tensorflow.keras.metrics import Precision, Recall, BinaryAccuracy"
   ]
  },
  {
   "cell_type": "code",
   "execution_count": 55,
   "id": "57e4fbb7-fb20-4100-b3ec-c93ed1bed3bb",
   "metadata": {},
   "outputs": [],
   "source": [
    "pre = Precision()\n",
    "re = Recall()\n",
    "acc = BinaryAccuracy()"
   ]
  },
  {
   "cell_type": "code",
   "execution_count": 56,
   "id": "01a6822f-20fd-4bff-ae8c-4c4dc7183f2d",
   "metadata": {},
   "outputs": [
    {
     "data": {
      "text/plain": [
       "1"
      ]
     },
     "execution_count": 56,
     "metadata": {},
     "output_type": "execute_result"
    }
   ],
   "source": [
    "len(test)"
   ]
  },
  {
   "cell_type": "code",
   "execution_count": 57,
   "id": "2843fa86-188e-430a-922e-7773e595f110",
   "metadata": {},
   "outputs": [
    {
     "name": "stdout",
     "output_type": "stream",
     "text": [
      "1/1 [==============================] - 0s 57ms/step\n"
     ]
    }
   ],
   "source": [
    "for batch in test.as_numpy_iterator():\n",
    "    X, y = batch\n",
    "    yhat = model.predict(X)\n",
    "    pre.update_state(y, yhat)\n",
    "    re.update_state(y, yhat)\n",
    "    acc.update_state(y, yhat)"
   ]
  },
  {
   "cell_type": "code",
   "execution_count": 58,
   "id": "1c725e55-26ff-4ce4-9954-205a5c24b6c2",
   "metadata": {},
   "outputs": [
    {
     "name": "stdout",
     "output_type": "stream",
     "text": [
      "Precision 1.0, Recall 1.0, Accuracy 1.0\n"
     ]
    }
   ],
   "source": [
    "print(f'Precision {pre.result().numpy()}, Recall {re.result().numpy()}, Accuracy {acc.result().numpy()}')"
   ]
  },
  {
   "cell_type": "code",
   "execution_count": 59,
   "id": "ece19fcc-01e2-4497-9a63-094c92fb2b45",
   "metadata": {},
   "outputs": [],
   "source": [
    "##Test"
   ]
  },
  {
   "cell_type": "code",
   "execution_count": 60,
   "id": "f5174925-3709-426e-90ac-5baf505d335e",
   "metadata": {},
   "outputs": [
    {
     "data": {
      "image/png": "[encoded data removed]",
      "text/plain": [
       "<Figure size 640x480 with 1 Axes>"
      ]
     },
     "metadata": {},
     "output_type": "display_data"
    }
   ],
   "source": [
    "img = cv2.imread(r\"C:\\Users\\ARYAN SURI\\Desktop\\Projects\\CNN Practice\\Data\\Test\\images.jpg\")\n",
    "img = cv2.cvtColor(img,cv2.COLOR_BGR2RGB)\n",
    "plt.imshow(img)\n",
    "plt.show()"
   ]
  },
  {
   "cell_type": "code",
   "execution_count": 61,
   "id": "8c306b82-3221-40c0-b819-51d3cd665828",
   "metadata": {},
   "outputs": [
    {
     "data": {
      "image/png": "[encoded data removed]",
      "text/plain": [
       "<Figure size 640x480 with 1 Axes>"
      ]
     },
     "metadata": {},
     "output_type": "display_data"
    }
   ],
   "source": [
    "resize = tf.image.resize(img, (256, 256))\n",
    "plt.imshow(resize.numpy().astype(int))\n",
    "plt.show()"
   ]
  },
  {
   "cell_type": "code",
   "execution_count": 62,
   "id": "072e3d43-9c01-45c9-89e1-7eba229a2680",
   "metadata": {},
   "outputs": [
    {
     "name": "stdout",
     "output_type": "stream",
     "text": [
      "1/1 [==============================] - 0s 32ms/step\n"
     ]
    }
   ],
   "source": [
    "yhat = model.predict(np.expand_dims(resize/255,0))"
   ]
  },
  {
   "cell_type": "code",
   "execution_count": 63,
   "id": "bf0707f6-4448-4a29-8eac-a0545cc8b08c",
   "metadata": {},
   "outputs": [
    {
     "data": {
      "text/plain": [
       "array([[1.]], dtype=float32)"
      ]
     },
     "execution_count": 63,
     "metadata": {},
     "output_type": "execute_result"
    }
   ],
   "source": [
    "yhat"
   ]
  },
  {
   "cell_type": "code",
   "execution_count": 64,
   "id": "1cd3a24c-c065-4451-8149-0fe2a3be23a7",
   "metadata": {},
   "outputs": [],
   "source": [
    "def prediction(yhat):\n",
    "    if yhat > 0.5:\n",
    "        print('Predicted class is sad')\n",
    "    else:\n",
    "        print(\"Predicted class is happy\")"
   ]
  },
  {
   "cell_type": "code",
   "execution_count": 65,
   "id": "e59eee0d-0c82-4402-ac7f-9c82c2d8d204",
   "metadata": {},
   "outputs": [],
   "source": [
    "from tensorflow.keras.models import load_model"
   ]
  },
  {
   "cell_type": "code",
   "execution_count": 66,
   "id": "e86ca2fa-45d2-43e3-80c2-86710b8324a8",
   "metadata": {},
   "outputs": [],
   "source": [
    "model.save(os.path.join('Models', 'happysadmodel.keras'))"
   ]
  },
  {
   "cell_type": "code",
   "execution_count": 67,
   "id": "d4f32342-8c01-4051-8cb2-8d952000da3d",
   "metadata": {},
   "outputs": [],
   "source": [
    "new_model = load_model(os.path.join('Models', 'happysadmodel.keras'))"
   ]
  },
  {
   "cell_type": "code",
   "execution_count": 68,
   "id": "6c812e44-f5cd-45d4-916f-d74ade7ac4b4",
   "metadata": {},
   "outputs": [
    {
     "data": {
      "text/plain": [
       "<keras.src.engine.sequential.Sequential at 0x14f11954a90>"
      ]
     },
     "execution_count": 68,
     "metadata": {},
     "output_type": "execute_result"
    }
   ],
   "source": [
    "new_model"
   ]
  },
  {
   "cell_type": "code",
   "execution_count": 70,
   "id": "6439841f-a2cc-48a1-88b2-bf05f4fe2a46",
   "metadata": {},
   "outputs": [
    {
     "name": "stdout",
     "output_type": "stream",
     "text": [
      "1/1 [==============================] - 0s 24ms/step\n",
      "Predicted class is sad\n"
     ]
    }
   ],
   "source": [
    "yhat = new_model.predict(np.expand_dims(resize/255,0))\n",
    "prediction(yhat)"
   ]
  },
  {
   "cell_type": "code",
   "execution_count": 71,
   "id": "2d118665-97c9-41e3-a4a6-b3c150e17571",
   "metadata": {},
   "outputs": [
    {
     "name": "stdout",
     "output_type": "stream",
     "text": [
      "[name: \"/device:CPU:0\"\n",
      "device_type: \"CPU\"\n",
      "memory_limit: 268435456\n",
      "locality {\n",
      "}\n",
      "incarnation: 16198520603049344020\n",
      "xla_global_id: -1\n",
      "]\n"
     ]
    }
   ],
   "source": [
    "from tensorflow.python.client import device_lib\n",
    "print(device_lib.list_local_devices())"
   ]
  },
  {
   "cell_type": "code",
   "execution_count": null,
   "id": "b5240282-9579-44dd-9e9b-ec46b0556d8c",
   "metadata": {},
   "outputs": [],
   "source": []
  }
 ],
 "metadata": {
  "kernelspec": {
   "display_name": "Python 3 (ipykernel)",
   "language": "python",
   "name": "python3"
  },
  "language_info": {
   "codemirror_mode": {
    "name": "ipython",
    "version": 3
   },
   "file_extension": ".py",
   "mimetype": "text/x-python",
   "name": "python",
   "nbconvert_exporter": "python",
   "pygments_lexer": "ipython3",
   "version": "3.11.5"
  }
 },
 "nbformat": 4,
 "nbformat_minor": 5
}
